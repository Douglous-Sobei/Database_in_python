{
 "cells": [
  {
   "cell_type": "markdown",
   "id": "9b675ac6",
   "metadata": {},
   "source": [
    "**Introduction To Databases in Python**"
   ]
  },
  {
   "cell_type": "markdown",
   "id": "2fe01dbb",
   "metadata": {},
   "source": [
    "# Census case study"
   ]
  },
  {
   "cell_type": "markdown",
   "id": "31041655",
   "metadata": {},
   "source": [
    "## Setup the engine and Metadata\n",
    "In this exercise, my job is to create an engine to the database that will be used in this project. Then, I need to initialize its metadata.\n"
   ]
  },
  {
   "cell_type": "code",
   "execution_count": 1,
   "id": "30120af9",
   "metadata": {},
   "outputs": [],
   "source": [
    "# Import create_engine, MetaData, Table, column, string, integer\n",
    "from sqlalchemy import MetaData, create_engine, Table, Column, String, Integer,insert\n",
    "import csv\n",
    "import pandas as pd"
   ]
  },
  {
   "cell_type": "code",
   "execution_count": 2,
   "id": "e0f002a5",
   "metadata": {},
   "outputs": [],
   "source": [
    "# Define an engine to connect to chapter5.sqlite: engine\n",
    "engine = create_engine('sqlite:///chapter5.sqlite')\n",
    "\n",
    "# Create a connection on engine\n",
    "connection = engine.connect()\n",
    "\n",
    "# Initialize MetaData: metadata\n",
    "metadata = MetaData()\n"
   ]
  },
  {
   "cell_type": "markdown",
   "id": "7bb38fb6",
   "metadata": {},
   "source": [
    "## Create the table to the database\n",
    "Having setup the engine and initialized the metadata, I will now define the census table object and then create it in the database using the metadata and engine from the previous exercise. To create it in the database, I will have to use the .create_all() method on the metadata with engine as the argument.\n",
    "\n"
   ]
  },
  {
   "cell_type": "code",
   "execution_count": 3,
   "id": "5d0b2442",
   "metadata": {},
   "outputs": [],
   "source": [
    "# Build a census table: census\n",
    "census = Table('census', metadata,\n",
    "               Column('state', String(30)),\n",
    "               Column('sex', String(1)),\n",
    "               Column('age', Integer()),\n",
    "               Column('pop2000', Integer()),\n",
    "               Column('pop2008', Integer()))\n",
    "\n",
    "# Create the table in the database\n",
    "metadata.create_all(engine)\n"
   ]
  },
  {
   "cell_type": "markdown",
   "id": "775aed73",
   "metadata": {},
   "source": [
    "When creating columns of type String(), it's important to spend some time thinking about what their maximum lengths should be."
   ]
  },
  {
   "cell_type": "markdown",
   "id": "f7b35435",
   "metadata": {},
   "source": [
    "# Populating the database"
   ]
  },
  {
   "cell_type": "markdown",
   "id": "1b468321",
   "metadata": {},
   "source": [
    "## Reading the data from the CSV\n",
    "Leverage the Python CSV module from the standard library and load the data into a list of dictionaries."
   ]
  },
  {
   "cell_type": "code",
   "execution_count": 4,
   "id": "4ce53c16",
   "metadata": {},
   "outputs": [],
   "source": [
    "file = open('census.csv')\n",
    "csv_reader = csv.reader(file)\n",
    "# Create an empty list: values_list\n",
    "values_list = []\n",
    "\n",
    "# Iterate over the rows\n",
    "for row in csv_reader:\n",
    "    # Create a dictionary with the values\n",
    "    data = {'state': row[0], 'sex': row[1], 'age': row[2], 'pop2000': row[3],\n",
    "            'pop2008': row[4]}\n",
    "    # Append the dictionary to the values list\n",
    "    values_list.append(data)\n"
   ]
  },
  {
   "cell_type": "markdown",
   "id": "3e59401c",
   "metadata": {},
   "source": [
    "## Load data from a list into the Table\n",
    "Using the multiple insert pattern, in this exercise, you will load the data from values_list into the table."
   ]
  },
  {
   "cell_type": "code",
   "execution_count": 5,
   "id": "cbc97c73",
   "metadata": {},
   "outputs": [
    {
     "name": "stdout",
     "output_type": "stream",
     "text": [
      "8772\n"
     ]
    }
   ],
   "source": [
    "# Import insert\n",
    "\n",
    "from sqlalchemy import insert\n",
    "# Build insert statement: stmt\n",
    "stmt = insert(census)\n",
    "\n",
    "# Use values_list to insert data: results\n",
    "\n",
    "results = connection.execute(stmt, values_list)\n",
    "# Print rowcount\n",
    "print(results.rowcount)\n"
   ]
  }
 ],
 "metadata": {
  "kernelspec": {
   "display_name": "Python 3 (ipykernel)",
   "language": "python",
   "name": "python3"
  },
  "language_info": {
   "codemirror_mode": {
    "name": "ipython",
    "version": 3
   },
   "file_extension": ".py",
   "mimetype": "text/x-python",
   "name": "python",
   "nbconvert_exporter": "python",
   "pygments_lexer": "ipython3",
   "version": "3.9.15"
  },
  "toc": {
   "base_numbering": 1,
   "nav_menu": {},
   "number_sections": true,
   "sideBar": true,
   "skip_h1_title": false,
   "title_cell": "Table of Contents",
   "title_sidebar": "Contents",
   "toc_cell": false,
   "toc_position": {},
   "toc_section_display": true,
   "toc_window_display": false
  }
 },
 "nbformat": 4,
 "nbformat_minor": 5
}
