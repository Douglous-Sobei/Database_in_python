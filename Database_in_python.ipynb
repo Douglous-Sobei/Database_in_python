{
 "cells": [
  {
   "cell_type": "markdown",
   "id": "54d16bed",
   "metadata": {},
   "source": [
    "**Introduction To Databases in Python**"
   ]
  },
  {
   "cell_type": "markdown",
   "id": "b4ee1c6a",
   "metadata": {},
   "source": [
    "# Census case study"
   ]
  },
  {
   "cell_type": "markdown",
   "id": "4d5e6240",
   "metadata": {},
   "source": [
    "## Setup the engine and Metadata\n",
    "In this exercise, my job is to create an engine to the database that will be used in this project. Then, I need to initialize its metadata.\n"
   ]
  },
  {
   "cell_type": "code",
   "execution_count": 1,
   "id": "45e6bb9b",
   "metadata": {},
   "outputs": [],
   "source": [
    "# Import all from sqlalchemy\n",
    "from sqlalchemy import *\n",
    "import csv"
   ]
  },
  {
   "cell_type": "code",
   "execution_count": 2,
   "id": "89029382",
   "metadata": {},
   "outputs": [],
   "source": [
    "# Define an engine to connect to chapter5.sqlite: engine\n",
    "engine = create_engine('sqlite:///chapter5.sqlite')\n",
    "\n",
    "# Create a connection on engine\n",
    "connection = engine.connect()\n",
    "\n",
    "# Initialize MetaData: metadata\n",
    "metadata = MetaData()"
   ]
  },
  {
   "cell_type": "markdown",
   "id": "e8de4aa4",
   "metadata": {},
   "source": [
    "## Create the table to the database\n",
    "Having setup the engine and initialized the metadata, I will now define the census table object and then create it in the database using the metadata and engine from the previous exercise. To create it in the database, I will have to use the .create_all() method on the metadata with engine as the argument.\n",
    "\n"
   ]
  },
  {
   "cell_type": "code",
   "execution_count": 3,
   "id": "227c9cf9",
   "metadata": {},
   "outputs": [],
   "source": [
    "# Build a census table: census\n",
    "census = Table('census', metadata,\n",
    "               Column('state', String(30)),\n",
    "               Column('sex', String(1)),\n",
    "               Column('age', Integer()),\n",
    "               Column('pop2000', Integer()),\n",
    "               Column('pop2008', Integer()))\n",
    "\n",
    "# Create the table in the database\n",
    "metadata.create_all(engine)"
   ]
  },
  {
   "cell_type": "markdown",
   "id": "686eace6",
   "metadata": {},
   "source": [
    "When creating columns of type String(), it's important to spend some time thinking about what their maximum lengths should be."
   ]
  },
  {
   "cell_type": "markdown",
   "id": "b106a4c1",
   "metadata": {},
   "source": [
    "# Populating the database"
   ]
  },
  {
   "cell_type": "markdown",
   "id": "ea000740",
   "metadata": {},
   "source": [
    "## Reading the data from the CSV\n",
    "Leverage the Python CSV module from the standard library and load the data into a list of dictionaries."
   ]
  },
  {
   "cell_type": "code",
   "execution_count": 4,
   "id": "e07176cb",
   "metadata": {},
   "outputs": [],
   "source": [
    "file = open('census.csv')\n",
    "csv_reader = csv.reader(file)\n",
    "# Create an empty list: values_list\n",
    "values_list = []\n",
    "\n",
    "# Iterate over the rows\n",
    "for row in csv_reader:\n",
    "    # Create a dictionary with the values\n",
    "    data = {'state': row[0], 'sex': row[1], 'age': row[2], 'pop2000': row[3],\n",
    "            'pop2008': row[4]}\n",
    "    # Append the dictionary to the values list\n",
    "    values_list.append(data)"
   ]
  },
  {
   "cell_type": "markdown",
   "id": "149ce829",
   "metadata": {},
   "source": [
    "## Load data from a list into the Table\n",
    "Using the multiple insert pattern, in this exercise, you will load the data from values_list into the table."
   ]
  },
  {
   "cell_type": "code",
   "execution_count": 5,
   "id": "e5d4db73",
   "metadata": {},
   "outputs": [
    {
     "name": "stdout",
     "output_type": "stream",
     "text": [
      "8772\n"
     ]
    }
   ],
   "source": [
    "# Build insert statement: stmt\n",
    "stmt = insert(census)\n",
    "\n",
    "# Use values_list to insert data: results\n",
    "\n",
    "results = connection.execute(stmt, values_list)\n",
    "# Print rowcount\n",
    "print(results.rowcount)"
   ]
  },
  {
   "cell_type": "markdown",
   "id": "ce7eec8a",
   "metadata": {},
   "source": [
    "# Querying the database"
   ]
  },
  {
   "cell_type": "markdown",
   "id": "b65671c3",
   "metadata": {},
   "source": [
    "## Determine the average age by population\n",
    " To calculate a weighted average, I will first find the total sum of weights multiplied by the values I'm averaging, then divide by the sum of all the weights.\n",
    "\n",
    "For example, if I wanted to find a weighted average of data = [10, 30, 50] weighted by weights = [2,4,6], we would compute \n",
    " \n",
    ", or sum(weights * data) / sum(weights).\n",
    "\n",
    "In this exercise, however, I will make use of **func.sum()** together with select to **select** the weighted average of a column from a table. I will still work with the census data, and I will compute the average of age weighted by state population in the year 2000, and then group this weighted average by sex."
   ]
  },
  {
   "cell_type": "code",
   "execution_count": 6,
   "id": "cd8d4d74",
   "metadata": {},
   "outputs": [
    {
     "name": "stdout",
     "output_type": "stream",
     "text": [
      "F 37\n",
      "M 34\n"
     ]
    }
   ],
   "source": [
    "# Select sex and average age weighted by 2000 population\n",
    "stmt = select([(func.sum(census.columns.pop2000 * census.columns.age) \n",
    "  \t\t\t\t\t/ func.sum(census.columns.pop2000)).label('average_age'),\n",
    "               census.columns.sex\n",
    "\t\t\t  ])\n",
    "\n",
    "# Group by sex\n",
    "stmt = stmt.group_by(census.columns.sex)\n",
    "\n",
    "# Execute the query and fetch all the results\n",
    "results = connection.execute(stmt).fetchall()\n",
    "\n",
    "# Print the sex and average age column for each result\n",
    "for record in results:\n",
    "    print(record.sex, record.average_age)"
   ]
  },
  {
   "cell_type": "markdown",
   "id": "88e63b32",
   "metadata": {},
   "source": [
    "## Determine the percentage of population by gender and state\n",
    "In this exercise, I will write a query to determine the percentage of the population in 2000 that comprised of women. I will group this query by state."
   ]
  },
  {
   "cell_type": "code",
   "execution_count": 7,
   "id": "8c931e3e",
   "metadata": {},
   "outputs": [
    {
     "name": "stdout",
     "output_type": "stream",
     "text": [
      "Alabama 51.832407770179465\n",
      "Alaska 49.301497893484594\n",
      "Arizona 50.22361303057914\n",
      "Arkansas 51.26992846221834\n",
      "California 50.35233214901979\n",
      "Colorado 49.84767060299562\n",
      "Connecticut 51.66816507130644\n",
      "Delaware 51.61109733558627\n",
      "District of Columbia 53.129626141738385\n",
      "Florida 51.36488001165242\n",
      "Georgia 51.11408350339436\n",
      "Hawaii 51.118011836915514\n",
      "Idaho 49.98972623903102\n",
      "Illinois 51.11224234802867\n",
      "Indiana 50.95480313297678\n",
      "Iowa 50.950398342534264\n",
      "Kansas 50.821864107754735\n",
      "Kentucky 51.32687036927168\n",
      "Louisiana 51.75351596554121\n",
      "Maine 51.50570813418951\n",
      "Maryland 51.93575549972231\n",
      "Massachusetts 51.843023571316785\n",
      "Michigan 50.97246518318712\n",
      "Minnesota 50.49332944301148\n",
      "Mississippi 51.92229481794672\n",
      "Missouri 51.46888602639692\n",
      "Montana 50.32202690728538\n",
      "Nebraska 50.8584549336086\n",
      "Nevada 49.36736361384359\n",
      "New Hampshire 50.858019844961746\n",
      "New Jersey 51.51713956125773\n",
      "New Mexico 51.0471720798335\n",
      "New York 51.83453865150073\n",
      "North Carolina 51.482262322084594\n",
      "North Dakota 50.50069363231332\n",
      "Ohio 51.46550350015544\n",
      "Oklahoma 51.11362457075227\n",
      "Oregon 50.4294670361772\n",
      "Pennsylvania 51.74043473051053\n",
      "Rhode Island 52.07343391902215\n",
      "South Carolina 51.73072129765755\n",
      "South Dakota 50.52583581373275\n",
      "Tennessee 51.430689699449275\n",
      "Texas 50.515721664207966\n",
      "Utah 49.97295275106927\n",
      "Vermont 51.018573209949466\n",
      "Virginia 51.657252447241795\n",
      "Washington 50.518565087218334\n",
      "West Virginia 51.40042318092286\n",
      "Wisconsin 50.61486452653393\n",
      "Wyoming 49.94595542648306\n"
     ]
    }
   ],
   "source": [
    "# Build a query to calculate the percentage of women in 2000: stmt\n",
    "stmt = select([census.columns.state,\n",
    "    (func.sum(\n",
    "        case([\n",
    "            (census.columns.sex == 'F', census.columns.pop2000)\n",
    "        ], else_=0)) /\n",
    "     cast(func.sum(census.columns.pop2000), Float) * 100).label('percent_female')\n",
    "])\n",
    "\n",
    "# Group By state\n",
    "stmt = stmt.group_by(census.columns.state)\n",
    "\n",
    "# Execute the query and store the results: results\n",
    "results = connection.execute(stmt).fetchall()\n",
    "\n",
    "# Print the percentage\n",
    "for result in results:\n",
    "    print(result.state, result.percent_female)"
   ]
  },
  {
   "cell_type": "markdown",
   "id": "06d6ab37",
   "metadata": {},
   "source": [
    "Interestingly, the District of Rhode Island had the highest percentage of women in 2000, while Alaska had the highest percentage of males."
   ]
  },
  {
   "cell_type": "markdown",
   "id": "3c49ba3b",
   "metadata": {},
   "source": [
    "## Determine the difference by state from the 2000 and 2008 censuses\n",
    "In this final exercise, I will write a query to calculate the states that changed the most in population. I will limit my query to display only the top 10 states."
   ]
  },
  {
   "cell_type": "code",
   "execution_count": 8,
   "id": "ae3549ab",
   "metadata": {},
   "outputs": [
    {
     "name": "stdout",
     "output_type": "stream",
     "text": [
      "Texas:40137\n",
      "California:35406\n",
      "Florida:21954\n",
      "Arizona:14377\n",
      "Georgia:13357\n",
      "North Carolina:11574\n",
      "Virginia:6639\n",
      "Colorado:6425\n",
      "Utah:5934\n",
      "Illinois:5412\n"
     ]
    }
   ],
   "source": [
    "# Build query to return state name and population difference from 2008 to 2000\n",
    "stmt = select([census.columns.state,\n",
    "     (census.columns.pop2008-census.columns.pop2000).label('pop_change')\n",
    "])\n",
    "\n",
    "# Group by State\n",
    "stmt = stmt.group_by(census.columns.state)\n",
    "\n",
    "# Order by Population Change\n",
    "stmt = stmt.order_by(desc('pop_change'))\n",
    "\n",
    "# Limit to top 10\n",
    "stmt = stmt.limit(10)\n",
    "\n",
    "# Use connection to execute the statement and fetch all results\n",
    "results = connection.execute(stmt).fetchall()\n",
    "\n",
    "# Print the state and population change for each record\n",
    "for result in results:\n",
    "    print('{}:{}'.format(result.state, result.pop_change))"
   ]
  },
  {
   "cell_type": "markdown",
   "id": "7ceb78ed",
   "metadata": {},
   "source": [
    "It looks like the state that grew the least in population between 2000 and 2008 was Illinois."
   ]
  }
 ],
 "metadata": {
  "kernelspec": {
   "display_name": "Python 3 (ipykernel)",
   "language": "python",
   "name": "python3"
  },
  "language_info": {
   "codemirror_mode": {
    "name": "ipython",
    "version": 3
   },
   "file_extension": ".py",
   "mimetype": "text/x-python",
   "name": "python",
   "nbconvert_exporter": "python",
   "pygments_lexer": "ipython3",
   "version": "3.9.15"
  },
  "toc": {
   "base_numbering": 1,
   "nav_menu": {},
   "number_sections": true,
   "sideBar": true,
   "skip_h1_title": false,
   "title_cell": "Table of Contents",
   "title_sidebar": "Contents",
   "toc_cell": false,
   "toc_position": {},
   "toc_section_display": true,
   "toc_window_display": false
  }
 },
 "nbformat": 4,
 "nbformat_minor": 5
}
